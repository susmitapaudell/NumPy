{
 "cells": [
  {
   "cell_type": "code",
   "execution_count": null,
   "id": "5ad94388-8562-4d7f-a0e9-69187dc09214",
   "metadata": {},
   "outputs": [],
   "source": []
  }
 ],
 "metadata": {
  "kernelspec": {
   "display_name": "",
   "name": ""
  },
  "language_info": {
   "name": ""
  }
 },
 "nbformat": 4,
 "nbformat_minor": 5
}
