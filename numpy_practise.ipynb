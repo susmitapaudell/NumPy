{
 "cells": [
  {
   "cell_type": "code",
   "execution_count": 2,
   "id": "a72adc29-427f-4a90-9849-614c351b2e76",
   "metadata": {},
   "outputs": [],
   "source": [
    "import numpy as np"
   ]
  },
  {
   "cell_type": "code",
   "execution_count": 3,
   "id": "434a9012-c661-452f-8e6e-0ff64b85175f",
   "metadata": {},
   "outputs": [
    {
     "name": "stdout",
     "output_type": "stream",
     "text": [
      "[1, 2, 3, 4, 5]\n"
     ]
    }
   ],
   "source": [
    "a = [1,2,3,4,5]\n",
    "print(a)"
   ]
  },
  {
   "cell_type": "code",
   "execution_count": 4,
   "id": "54e538f8-11bf-405b-ae83-365c225f39f6",
   "metadata": {},
   "outputs": [
    {
     "name": "stdout",
     "output_type": "stream",
     "text": [
      "[1 2 3 4 5]\n"
     ]
    }
   ],
   "source": [
    "print(np.array(a))"
   ]
  },
  {
   "cell_type": "code",
   "execution_count": 5,
   "id": "899b1994-3897-4221-bc39-c7808aeae833",
   "metadata": {},
   "outputs": [],
   "source": [
    "b = np.array(a)"
   ]
  },
  {
   "cell_type": "code",
   "execution_count": 6,
   "id": "a4ede44a-5dcd-4c5c-b3a3-c32aaa0df7b8",
   "metadata": {},
   "outputs": [
    {
     "data": {
      "text/plain": [
       "numpy.ndarray"
      ]
     },
     "execution_count": 6,
     "metadata": {},
     "output_type": "execute_result"
    }
   ],
   "source": [
    "type(b)"
   ]
  },
  {
   "cell_type": "code",
   "execution_count": 7,
   "id": "378228bb-78ba-438a-bf7c-16650647d103",
   "metadata": {},
   "outputs": [
    {
     "name": "stdout",
     "output_type": "stream",
     "text": [
      "[32 45 23]\n"
     ]
    }
   ],
   "source": [
    "c_val = np.array([32,45,23])\n",
    "print(c_val)"
   ]
  },
  {
   "cell_type": "code",
   "execution_count": 8,
   "id": "7d599f0a-0a91-4eac-8fcb-741adb970ac5",
   "metadata": {},
   "outputs": [
    {
     "name": "stdout",
     "output_type": "stream",
     "text": [
      "[ 89.6 113.   73.4]\n"
     ]
    }
   ],
   "source": [
    "f_val = c_val*9/5+32\n",
    "print(f_val)"
   ]
  },
  {
   "cell_type": "code",
   "execution_count": 9,
   "id": "6f4e7fd8-b2da-499e-b2db-0d47f98ec0e9",
   "metadata": {},
   "outputs": [
    {
     "data": {
      "image/png": "[encoded data removed]",
      "text/plain": [
       "<Figure size 640x480 with 1 Axes>"
      ]
     },
     "metadata": {},
     "output_type": "display_data"
    }
   ],
   "source": [
    "import matplotlib.pyplot as plt\n",
    "plt.plot(c_val)\n",
    "plt.plot(f_val)\n",
    "plt.show()"
   ]
  },
  {
   "cell_type": "code",
   "execution_count": 10,
   "id": "934f2483-ead3-4b5d-ae13-c67962dad5d9",
   "metadata": {},
   "outputs": [
    {
     "name": "stdout",
     "output_type": "stream",
     "text": [
      "[0 5]\n"
     ]
    }
   ],
   "source": [
    "x = np.arange(0,10,5, int)\n",
    "print(x)"
   ]
  },
  {
   "cell_type": "code",
   "execution_count": 11,
   "id": "03d08610-52b2-49c5-8ecb-6d5523bf9666",
   "metadata": {},
   "outputs": [
    {
     "name": "stdout",
     "output_type": "stream",
     "text": [
      "(array([ 0. ,  2.5,  5. ,  7.5, 10. ]), np.float64(2.5))\n"
     ]
    }
   ],
   "source": [
    "y = np.linspace(0,10,5,True, True)\n",
    "print(y)"
   ]
  },
  {
   "cell_type": "code",
   "execution_count": 12,
   "id": "24a84be3-90ba-47cd-a450-797015a2c4b6",
   "metadata": {},
   "outputs": [
    {
     "name": "stdout",
     "output_type": "stream",
     "text": [
      "0.1836734693877551\n",
      "0.47368421052631576\n",
      "[1.   1.45 1.9  2.35 2.8  3.25 3.7  4.15 4.6  5.05 5.5  5.95 6.4  6.85\n",
      " 7.3  7.75 8.2  8.65 9.1  9.55]\n"
     ]
    }
   ],
   "source": [
    "import numpy as np\n",
    "\n",
    "# Generate an array with evenly spaced values between 1 and 10\n",
    "samples, spacing = np.linspace(1, 10, retstep=True)\n",
    "print(spacing)  # This will print the step size between the values\n",
    "\n",
    "# Generate an array with 20 evenly spaced values between 1 and 10, including the endpoint\n",
    "samples, spacing = np.linspace(1, 10, 20, endpoint=True, retstep=True)\n",
    "print(spacing)  # This will print the step size between the values\n",
    "\n",
    "# Generate an array with 20 evenly spaced values between 1 and 10, excluding the endpoint\n",
    "samples, spacing = np.linspace(1, 10, 20, endpoint=False, retstep=True)\n",
    "print(samples)  # This will print the step size between the values\n"
   ]
  },
  {
   "cell_type": "code",
   "execution_count": 13,
   "id": "e64dba54-5a26-49ea-89cb-8ebaa09b5b7a",
   "metadata": {},
   "outputs": [
    {
     "name": "stdout",
     "output_type": "stream",
     "text": [
      "[1 2 3 4]\n",
      "int64\n",
      "1\n"
     ]
    }
   ],
   "source": [
    "#dimensions \n",
    "a = np.array([1,2,3,4])\n",
    "print(a)\n",
    "print(a.dtype)\n",
    "print(np.ndim(a))"
   ]
  },
  {
   "cell_type": "code",
   "execution_count": 14,
   "id": "2f54320c-a25b-4ffa-b37d-405247eb4fab",
   "metadata": {},
   "outputs": [
    {
     "name": "stdout",
     "output_type": "stream",
     "text": [
      "[[1.3 2. ]\n",
      " [2.  3. ]\n",
      " [3.  4. ]]\n",
      "float64\n",
      "2\n"
     ]
    }
   ],
   "source": [
    "b = np.array([\n",
    "    [1.3,2], [2,3], [3,4]\n",
    "])\n",
    "print(b)\n",
    "print(b.dtype)\n",
    "print(np.ndim(b))"
   ]
  },
  {
   "cell_type": "code",
   "execution_count": 15,
   "id": "93b158ee-0bf0-4586-abbb-1bb6ab8c747c",
   "metadata": {},
   "outputs": [
    {
     "name": "stdout",
     "output_type": "stream",
     "text": [
      "[[[1 2 3]\n",
      "  [4 5 6]]\n",
      "\n",
      " [[3 4 5]\n",
      "  [5 6 7]]\n",
      "\n",
      " [[1 3 5]\n",
      "  [4 6 8]]]\n",
      "int64\n",
      "3\n",
      "(3, 2, 3)\n"
     ]
    }
   ],
   "source": [
    "#shapes\n",
    "a = np.array([ [[1,2,3],[4,5,6]] , [[3,4,5],[5,6,7]] , [[1,3,5],[4,6,8]] ])\n",
    "print(a)\n",
    "print(a.dtype)\n",
    "print(np.ndim(a))\n",
    "print(np.shape(a))"
   ]
  },
  {
   "cell_type": "code",
   "execution_count": 16,
   "id": "71a5f683-4df4-4123-b7d7-30628b0d3de8",
   "metadata": {},
   "outputs": [
    {
     "name": "stdout",
     "output_type": "stream",
     "text": [
      "[[[1 2]\n",
      "  [3 4]\n",
      "  [5 6]]\n",
      "\n",
      " [[3 4]\n",
      "  [5 5]\n",
      "  [6 7]]\n",
      "\n",
      " [[1 3]\n",
      "  [5 4]\n",
      "  [6 8]]]\n"
     ]
    }
   ],
   "source": [
    "#reshaping\n",
    "resh_a = a.reshape(3,3,2)\n",
    "print(resh_a)"
   ]
  },
  {
   "cell_type": "code",
   "execution_count": 17,
   "id": "45b0b200-9a43-4662-848e-c00a3f18a300",
   "metadata": {},
   "outputs": [
    {
     "name": "stdout",
     "output_type": "stream",
     "text": [
      "[3 4 5 6 7 8 9]\n",
      "[0 1 2]\n",
      "[0 1 2 3 4 5 6 7 8 9]\n",
      "[4 6]\n"
     ]
    }
   ],
   "source": [
    "#slicing on 1-D\n",
    "a = np.array([0,1,2,3,4,5,6,7,8,9])\n",
    "print(a[3:])\n",
    "print(a[:3])\n",
    "print(a[:])\n",
    "print(a[4:8:2])"
   ]
  },
  {
   "cell_type": "code",
   "execution_count": 18,
   "id": "5fdcb345-7f1f-4ccb-9e28-cd765b8d69be",
   "metadata": {},
   "outputs": [
    {
     "name": "stdout",
     "output_type": "stream",
     "text": [
      "[[1 2]\n",
      " [4 5]]\n"
     ]
    }
   ],
   "source": [
    "#slicing on 2-D\n",
    "a = np.array([\n",
    "    [1,2,3],[4,5,6]\n",
    "             ])\n",
    "print(a[:2,:2])"
   ]
  },
  {
   "cell_type": "code",
   "execution_count": 19,
   "id": "4168cd53-b7e9-4b35-a0cb-cee83cc0c1c0",
   "metadata": {},
   "outputs": [
    {
     "name": "stdout",
     "output_type": "stream",
     "text": [
      "[[[1]]]\n"
     ]
    }
   ],
   "source": [
    "#slicing on 3-D\n",
    "a = np.array([\n",
    "    [[1,2,3],[4,5,6]],\n",
    "    [[2,3,4],[4,3,2]]\n",
    "             ])\n",
    "print(a[:1,:1,:1])"
   ]
  },
  {
   "cell_type": "code",
   "execution_count": 24,
   "id": "396da824-c2bd-45ac-96ae-5d271f8e634b",
   "metadata": {},
   "outputs": [
    {
     "name": "stdout",
     "output_type": "stream",
     "text": [
      "[[ 7  8  9 10 11 12 13]\n",
      " [14 15 16 17 18 19 20]\n",
      " [21 22 23 24 25 26 27]]\n"
     ]
    }
   ],
   "source": [
    "x = np.arange(7,28).reshape(3,7)\n",
    "print(x)"
   ]
  },
  {
   "cell_type": "code",
   "execution_count": 25,
   "id": "c45e7fa7-fb65-45ed-9c77-e5f40b4f7197",
   "metadata": {},
   "outputs": [
    {
     "name": "stdout",
     "output_type": "stream",
     "text": [
      "[[ 7 10 13]\n",
      " [21 24 27]]\n"
     ]
    }
   ],
   "source": [
    "print(x[::2,::3])"
   ]
  },
  {
   "cell_type": "code",
   "execution_count": 32,
   "id": "5873ca8a-1df9-46e1-827a-37d8623981b7",
   "metadata": {},
   "outputs": [
    {
     "name": "stdout",
     "output_type": "stream",
     "text": [
      "[[1 1 1]\n",
      " [1 1 1]]\n",
      "[[0. 0. 0.]\n",
      " [0. 0. 0.]]\n"
     ]
    }
   ],
   "source": [
    "#ones and zeros array; defaults float\n",
    "a = np.ones((2,3), dtype=int)\n",
    "print(a)\n",
    "\n",
    "b = np.zeros((2,3), dtype=float)\n",
    "print(b)"
   ]
  },
  {
   "cell_type": "code",
   "execution_count": 37,
   "id": "e3750aab-b5dd-41a3-b951-2f3524cab050",
   "metadata": {},
   "outputs": [
    {
     "name": "stdout",
     "output_type": "stream",
     "text": [
      "[1 1 1 1]\n",
      "[0 0 0 0]\n"
     ]
    }
   ],
   "source": [
    "a = np.array([1,2,3,4])\n",
    "a1 = np.ones_like(a)\n",
    "print(a1)\n",
    "a2 = np.zeros_like(a)\n",
    "print(a2)"
   ]
  },
  {
   "cell_type": "code",
   "execution_count": 38,
   "id": "79606348-b581-460b-8029-065b07a37d98",
   "metadata": {},
   "outputs": [],
   "source": [
    "#numpy.copy\n",
    "\n",
    "\n"
   ]
  },
  {
   "cell_type": "code",
   "execution_count": 46,
   "id": "9db7fd48-6217-422e-89c7-b84adb86f9c9",
   "metadata": {},
   "outputs": [
    {
     "name": "stdout",
     "output_type": "stream",
     "text": [
      "[[1 0 0 0]\n",
      " [0 1 0 0]\n",
      " [0 0 1 0]\n",
      " [0 0 0 1]]\n",
      "[[1 0 0 0 0]\n",
      " [0 1 0 0 0]\n",
      " [0 0 1 0 0]]\n"
     ]
    }
   ],
   "source": [
    "#identity method to create identity array\n",
    "a = np.identity(4, dtype=int)\n",
    "print(a)\n",
    "\n",
    "#eye method; can shift the ones to uppper or lower diagonal by k value\n",
    "b = np.eye(3,5,k=0, dtype=int)\n",
    "print(b)\n"
   ]
  },
  {
   "cell_type": "code",
   "execution_count": 2,
   "id": "a3d4b5a9-bc55-4dcb-88be-3f44292d7ee7",
   "metadata": {},
   "outputs": [
    {
     "name": "stdout",
     "output_type": "stream",
     "text": [
      "[0 1 2 3 4 5 6 7 8 9]\n",
      "[0 2 4 6 8]\n",
      "[9 8 7 6 5 4 3 2 1 0]\n"
     ]
    }
   ],
   "source": [
    "# exercise\n",
    "\n",
    "import numpy as np\n",
    "v = np.array([0,1,2,3,4,5,6,7,8,9])\n",
    "print(v)\n",
    "\n",
    "print(v[0:9:2])\n",
    "\n",
    "print(v[::-1])\n"
   ]
  },
  {
   "cell_type": "code",
   "execution_count": 3,
   "id": "c46ce80d-e24f-4fec-8d63-8335335eafca",
   "metadata": {},
   "outputs": [
    {
     "name": "stdout",
     "output_type": "stream",
     "text": [
      "200\n"
     ]
    }
   ],
   "source": [
    "a = np.array([1, 2, 3, 4, 5])\n",
    "b = a[1:4]\n",
    "b[0] = 200\n",
    "print(a[1])"
   ]
  },
  {
   "cell_type": "code",
   "execution_count": 32,
   "id": "e4c83f7f-31cb-4341-9fc0-b2f8f0bc6876",
   "metadata": {},
   "outputs": [
    {
     "name": "stdout",
     "output_type": "stream",
     "text": [
      "[[ 1  2  3  4  5]\n",
      " [ 4  5  6  7  8]\n",
      " [ 2  3  4  5  6]\n",
      " [ 5  6  7  8  9]\n",
      " [ 3  4  5  6  7]\n",
      " [ 6  7  8  9  0]\n",
      " [ 4  5  6  7  8]\n",
      " [ 7  8  9 10 11]]\n"
     ]
    }
   ],
   "source": [
    "m = np.array([\n",
    "    [1,2,3,4,5],[4,5,6,7,8],\n",
    "    [2,3,4,5,6],[5,6,7,8,9],\n",
    "    [3,4,5,6,7],[6,7,8,9,0],\n",
    "    [4,5,6,7,8],[7,8,9,10,11]\n",
    "])\n",
    "print(m)"
   ]
  },
  {
   "cell_type": "code",
   "execution_count": 38,
   "id": "17d2db5f-2872-4822-b1e5-7e63fcf168d2",
   "metadata": {},
   "outputs": [
    {
     "name": "stdout",
     "output_type": "stream",
     "text": [
      "[[ 5  4  3  2  1]\n",
      " [ 8  7  6  5  4]\n",
      " [ 6  5  4  3  2]\n",
      " [ 9  8  7  6  5]\n",
      " [ 7  6  5  4  3]\n",
      " [ 0  9  8  7  6]\n",
      " [ 8  7  6  5  4]\n",
      " [11 10  9  8  7]]\n"
     ]
    }
   ],
   "source": [
    "#elements of rows in reverse\n",
    "m1 = (m[::,::-1])\n",
    "print(m1)"
   ]
  },
  {
   "cell_type": "code",
   "execution_count": 34,
   "id": "a543ea49-a6e2-4324-ae61-d32b50148076",
   "metadata": {},
   "outputs": [
    {
     "name": "stdout",
     "output_type": "stream",
     "text": [
      "[[ 7  8  9 10 11]\n",
      " [ 4  5  6  7  8]\n",
      " [ 6  7  8  9  0]\n",
      " [ 3  4  5  6  7]\n",
      " [ 5  6  7  8  9]\n",
      " [ 2  3  4  5  6]\n",
      " [ 4  5  6  7  8]\n",
      " [ 1  2  3  4  5]]\n"
     ]
    }
   ],
   "source": [
    "#rows itself in reverse\n",
    "print(m[::-1,:])"
   ]
  },
  {
   "cell_type": "code",
   "execution_count": 35,
   "id": "28e00725-79cf-4e2f-b45b-bb8abcf2f0c7",
   "metadata": {},
   "outputs": [
    {
     "name": "stdout",
     "output_type": "stream",
     "text": [
      "[[11 10  9  8  7]\n",
      " [ 8  7  6  5  4]\n",
      " [ 0  9  8  7  6]\n",
      " [ 7  6  5  4  3]\n",
      " [ 9  8  7  6  5]\n",
      " [ 6  5  4  3  2]\n",
      " [ 8  7  6  5  4]\n",
      " [ 5  4  3  2  1]]\n"
     ]
    }
   ],
   "source": [
    "print(m[::-1,::-1])"
   ]
  },
  {
   "cell_type": "code",
   "execution_count": 37,
   "id": "eeed2b55-05de-475d-ad78-f69db8973b24",
   "metadata": {},
   "outputs": [
    {
     "name": "stdout",
     "output_type": "stream",
     "text": [
      "[[5 6 7]\n",
      " [3 4 5]\n",
      " [6 7 8]\n",
      " [4 5 6]\n",
      " [7 8 9]\n",
      " [5 6 7]]\n"
     ]
    }
   ],
   "source": [
    "print(m[1:-1,1:-1])"
   ]
  },
  {
   "cell_type": "code",
   "execution_count": 6,
   "id": "96aab546-48dd-4d44-8e60-f65a9685e23e",
   "metadata": {},
   "outputs": [
    {
     "name": "stdout",
     "output_type": "stream",
     "text": [
      "[[ 3  4  5  6  7]\n",
      " [ 8  9 10 11 12]\n",
      " [13 14 15 16 17]]\n"
     ]
    }
   ],
   "source": [
    "#reshape practise\n",
    "a = np.arange(3,18).reshape(3,5)\n",
    "print(a)"
   ]
  },
  {
   "cell_type": "code",
   "execution_count": 14,
   "id": "d34c9ac8-d705-4091-a12e-a4f1295ec214",
   "metadata": {},
   "outputs": [
    {
     "name": "stdout",
     "output_type": "stream",
     "text": [
      "<class 'numpy.int16'>\n",
      "int16\n"
     ]
    }
   ],
   "source": [
    "import numpy as np\n",
    "\n",
    "ii16 = np.int16 #different thing haha\n",
    "print(ii16)\n",
    "\n",
    "i16 = np.dtype(np.int16)\n",
    "print(i16)"
   ]
  },
  {
   "cell_type": "code",
   "execution_count": 22,
   "id": "9813117b-a189-4fae-ad18-ed278ef7c0b5",
   "metadata": {},
   "outputs": [
    {
     "name": "stdout",
     "output_type": "stream",
     "text": [
      "[(1,) (2,) (3,)]\n",
      "array([(1,), (2,), (3,)], dtype=[('density', '<i2')])\n"
     ]
    }
   ],
   "source": [
    "dt = np.dtype([('density', '<i2')])\n",
    "x = np.array([1,2,3], dtype = dt)\n",
    "print(x)\n",
    "print(repr(x)) #internal representation"
   ]
  },
  {
   "cell_type": "code",
   "execution_count": 34,
   "id": "4fc843f9-79ec-4998-83e7-8fafcdf395f4",
   "metadata": {},
   "outputs": [
    {
     "name": "stdout",
     "output_type": "stream",
     "text": [
      "[('susmita', 'bei', 44) ('shraddha', 'bei', 41) ('bishal', 'bba', 44)\n",
      " ('kusal', '+2', 40)]\n",
      "['susmita' 'shraddha' 'bishal' 'kusal']\n",
      "[('susmita', 'bei', 44) ('shraddha', 'bei', 41) ('bishal', 'bba', 44)\n",
      " ('kusal', '+2', 40)]\n"
     ]
    }
   ],
   "source": [
    "#creating a new table\n",
    "\n",
    "dt = np.dtype([('name', '<U20'),('faculty', '<U20'),('roll', '<i1')])\n",
    "x = np.array([\n",
    "    ('susmita', 'bei', 44),\n",
    "    ('shraddha', 'bei', 41),\n",
    "    ('bishal', 'bba', 44),\n",
    "    ('kusal', '+2', 40),\n",
    "], dtype = dt)\n",
    "\n",
    "print(x)\n",
    "print(x['name'])\n",
    "\n",
    "np.savetxt(\"x.csv\", x, fmt = \"%s;%s;%d\", delimiter = \";\")\n",
    "\n",
    "x = np.genfromtxt(\"x.csv\", \n",
    "                  dtype = dt,\n",
    "                  delimiter = \";\")\n",
    "print(x)"
   ]
  },
  {
   "cell_type": "code",
   "execution_count": 52,
   "id": "9cde514c-6b3c-4f71-a13d-0e6d860be7ef",
   "metadata": {},
   "outputs": [
    {
     "name": "stdout",
     "output_type": "stream",
     "text": [
      "(3, 566)\n",
      "[1 2 3 4 5 6 7 8 9]\n",
      "566\n"
     ]
    }
   ],
   "source": [
    "#exercise\n",
    "\n",
    "dt = np.dtype([('product_id', np.int32), ('product_price', 'i4')])\n",
    "product = np.array([\n",
    "    (1, 344), (2,455), (3,566), (4,555), (5, 322), (6, 899), (7, 677), (8,900), (9, 790),\n",
    "    ], dtype = dt)\n",
    "\n",
    "print(product[2]) #just row 2\n",
    "print(product['product_id']) #just column id\n",
    "print(product[2]['product_price']) #2nd row ko price"
   ]
  },
  {
   "cell_type": "code",
   "execution_count": 2,
   "id": "dceee4af-94a5-4659-a756-7440078db0e4",
   "metadata": {},
   "outputs": [
    {
     "name": "stdout",
     "output_type": "stream",
     "text": [
      "(2, 12, 45)\n",
      "[33 45]\n"
     ]
    }
   ],
   "source": [
    "import numpy as np\n",
    "\n",
    "dt = np.dtype([('hr', np.int8), ('min', np.int8), ('sec', np.int8)])\n",
    "time = np.array([\n",
    "    (1,22,33),(2,12,45)], dtype = dt)\n",
    "print(time[1])\n",
    "print(time['sec'])"
   ]
  },
  {
   "cell_type": "code",
   "execution_count": 7,
   "id": "f63876f9-bb4d-4556-95ad-21cb4fb28fdd",
   "metadata": {},
   "outputs": [
    {
     "name": "stdout",
     "output_type": "stream",
     "text": [
      "40\n",
      "()\n"
     ]
    }
   ],
   "source": [
    "x = np.array([1,2,3,4])\n",
    "y = np.array([2,3,4,5])\n",
    "print(np.dot(x,y))\n",
    "print(np.dot(x,y).shape)"
   ]
  },
  {
   "cell_type": "code",
   "execution_count": 13,
   "id": "41ff6b6d-2928-4801-8128-3a0e38679af8",
   "metadata": {},
   "outputs": [
    {
     "name": "stdout",
     "output_type": "stream",
     "text": [
      "x_shape: (3, 3) x_dimen 2\n",
      "y_shape: (3, 4) y_dimen 2\n",
      "[[ 14  29  44  59]\n",
      " [ 20  42  64  86]\n",
      " [ 38  81 124 167]]\n",
      "(3, 4)\n"
     ]
    }
   ],
   "source": [
    "x = np.array([[1,2,3],[2,3,4],[5,6,7]])\n",
    "y = np.array([[1,3,5,7],[2,4,6,8],[3,6,9,12]])\n",
    "print('x_shape:',x.shape,'x_dimen',x.ndim)\n",
    "print('y_shape:',y.shape,'y_dimen',y.ndim)\n",
    "print(np.dot(x,y))\n",
    "print(np.dot(x,y).shape)"
   ]
  },
  {
   "cell_type": "code",
   "execution_count": 17,
   "id": "6d5a7fae-86d5-46dd-b38c-6176b616e177",
   "metadata": {},
   "outputs": [
    {
     "name": "stdout",
     "output_type": "stream",
     "text": [
      "x_shape (3, 3, 3)\n",
      "(3, 3, 3, 3)\n",
      "[[[[ 283  274  399]\n",
      "   [ 326  246  242]\n",
      "   [ 287  242  268]]\n",
      "\n",
      "  [[ 434  423  600]\n",
      "   [ 500  401  378]\n",
      "   [ 461  369  416]]\n",
      "\n",
      "  [[ 585  572  801]\n",
      "   [ 674  556  514]\n",
      "   [ 635  496  564]]]\n",
      "\n",
      "\n",
      " [[[ 434  423  600]\n",
      "   [ 500  401  378]\n",
      "   [ 461  369  416]]\n",
      "\n",
      "  [[ 585  572  801]\n",
      "   [ 674  556  514]\n",
      "   [ 635  496  564]]\n",
      "\n",
      "  [[ 736  721 1002]\n",
      "   [ 848  711  650]\n",
      "   [ 809  623  712]]]\n",
      "\n",
      "\n",
      " [[[ 585  572  801]\n",
      "   [ 674  556  514]\n",
      "   [ 635  496  564]]\n",
      "\n",
      "  [[ 736  721 1002]\n",
      "   [ 848  711  650]\n",
      "   [ 809  623  712]]\n",
      "\n",
      "  [[ 887  870 1203]\n",
      "   [1022  866  786]\n",
      "   [ 983  750  860]]]]\n"
     ]
    }
   ],
   "source": [
    "x = np.array([\n",
    "    [[1,2,3],[2,3,4],[3,4,5]],\n",
    "    [[2,3,4],[3,4,5],[4,5,6]],\n",
    "    [[3,4,5],[4,5,6],[5,6,7]]\n",
    "             ])\n",
    "\n",
    "y = np.array([[\n",
    "                        [60, 72, 87],\n",
    "                       [50, 29, 30],\n",
    "                       [41, 48, 84]],\n",
    "\n",
    "                      [[69, 94, 72],\n",
    "                       [58, 31, 22],\n",
    "                       [47, 30, 42]],\n",
    "\n",
    "                      [[98, 35, 66],\n",
    "                       [39, 69, 44],\n",
    "                       [37, 23, 38]]\n",
    "             ])\n",
    "\n",
    "print('x_shape',x.shape)\n",
    "\n",
    "z = np.dot(x,y)\n",
    "print(z.shape)\n",
    "print(z)"
   ]
  },
  {
   "cell_type": "code",
   "execution_count": 5,
   "id": "6395e704-b113-49f5-82ce-8974681d7538",
   "metadata": {},
   "outputs": [
    {
     "name": "stdout",
     "output_type": "stream",
     "text": [
      "[[ True False  True]\n",
      " [False  True False]\n",
      " [ True  True False]]\n"
     ]
    }
   ],
   "source": [
    "A = np.array([ [11, 12, 13], [21, 22, 23], [31, 32, 33] ]) \n",
    "B = np.array([ [11, 102, 13], [201, 22, 203], [31, 32, 303] ]) \n",
    "print(A == B)"
   ]
  },
  {
   "cell_type": "code",
   "execution_count": 7,
   "id": "e917186c-ca18-4c27-8f8b-f2d60af640ff",
   "metadata": {},
   "outputs": [
    {
     "name": "stdout",
     "output_type": "stream",
     "text": [
      "(1, 3)\n",
      "(3, 3)\n",
      "(3, 1, 3)\n",
      "[[[1 1 1]]\n",
      "\n",
      " [[2 2 2]]\n",
      "\n",
      " [[3 3 3]]]\n",
      "[[[11 12 13]\n",
      "  [21 22 23]\n",
      "  [31 32 33]]\n",
      "\n",
      " [[22 24 26]\n",
      "  [42 44 46]\n",
      "  [62 64 66]]\n",
      "\n",
      " [[33 36 39]\n",
      "  [63 66 69]\n",
      "  [93 96 99]]]\n"
     ]
    }
   ],
   "source": [
    "B = np.array([1, 2, 3]) \n",
    "B = B[np.newaxis, :] \n",
    "print(B.shape) \n",
    "B = np.concatenate((B, B, B)).transpose() \n",
    "print(B.shape) \n",
    "B = B[:, np.newaxis] \n",
    "print(B.shape) \n",
    "print(B) \n",
    "print(A * B)"
   ]
  },
  {
   "cell_type": "code",
   "execution_count": 9,
   "id": "01d02556-c3e1-4595-bd5e-81688d88bf58",
   "metadata": {},
   "outputs": [
    {
     "name": "stdout",
     "output_type": "stream",
     "text": [
      "[[ True False  True]\n",
      " [ True  True  True]]\n"
     ]
    }
   ],
   "source": [
    "a = np.array([ [True, False, True] ,[False, True, True] ])\n",
    "b = np.array([ [True, False, False],[True, True, False] ])\n",
    "\n",
    "c = np.logical_or(a,b)\n",
    "print(c)"
   ]
  },
  {
   "cell_type": "code",
   "execution_count": 22,
   "id": "c77d574b-1eb6-458d-92cd-25bc63ecbf15",
   "metadata": {},
   "outputs": [
    {
     "name": "stdout",
     "output_type": "stream",
     "text": [
      "[[1 2 3]\n",
      " [1 2 3]\n",
      " [1 2 3]]\n",
      "[1 2 3]\n",
      "[[1 4 9]\n",
      " [1 4 9]\n",
      " [1 4 9]]\n"
     ]
    }
   ],
   "source": [
    "#broadcasting concept\n",
    "a = np.array([ [1,2,3] ]*3)\n",
    "print(a)\n",
    "\n",
    "b = np.array( [1,2,3] )\n",
    "print(b)\n",
    "\n",
    "print(a*b)"
   ]
  },
  {
   "cell_type": "code",
   "execution_count": 28,
   "id": "dbeb9e42-4f8c-434e-a258-a90a7b2658ce",
   "metadata": {},
   "outputs": [
    {
     "name": "stdout",
     "output_type": "stream",
     "text": [
      "(3,)\n",
      "[1 2 3]\n",
      "(1, 3)\n",
      "[[1 2 3]]\n"
     ]
    }
   ],
   "source": [
    "a = np.array([1,2,3])\n",
    "print(a.shape)\n",
    "print(a)\n",
    "\n",
    "a = a[np.newaxis, :]\n",
    "print(a.shape)\n",
    "print(a)"
   ]
  },
  {
   "cell_type": "code",
   "execution_count": 39,
   "id": "588d9f00-dc66-4944-88b7-1f9e43868c71",
   "metadata": {},
   "outputs": [
    {
     "name": "stdout",
     "output_type": "stream",
     "text": [
      "[25 22 21 20 19 17]\n",
      "[[ 0 -3 -4 -5 -6 -8]\n",
      " [ 3  0 -1 -2 -3 -5]\n",
      " [ 4  1  0 -1 -2 -4]\n",
      " [ 5  2  1  0 -1 -3]\n",
      " [ 6  3  2  1  0 -2]\n",
      " [ 8  5  4  3  2  0]]\n"
     ]
    }
   ],
   "source": [
    "#distance matrix\n",
    "\n",
    "name = ( ['birat', 'bipana', 'bishal', 'kusum', 'susmita', 'kusal'] )\n",
    "age = ( [25, 22, 21, 20, 19, 17] )\n",
    "\n",
    "age = np.array(age)\n",
    "print(age)\n",
    "print(age-age[:, np.newaxis])"
   ]
  },
  {
   "cell_type": "code",
   "execution_count": 50,
   "id": "6b027bd8-01e6-4450-8a09-d2f4f0162a89",
   "metadata": {},
   "outputs": [
    {
     "name": "stdout",
     "output_type": "stream",
     "text": [
      "[[[  0   1]\n",
      "  [  2   3]\n",
      "  [  4   5]\n",
      "  [  6   7]]\n",
      "\n",
      " [[  8   9]\n",
      "  [ 10  11]\n",
      "  [ 12  13]\n",
      "  [ 14  15]]\n",
      "\n",
      " [[ 16  17]\n",
      "  [ 18  19]\n",
      "  [ 20  21]\n",
      "  [ 22  23]]\n",
      "\n",
      " [[100 101]\n",
      "  [102 103]\n",
      "  [104 105]\n",
      "  [106 107]]\n",
      "\n",
      " [[108 109]\n",
      "  [110 111]\n",
      "  [112 113]\n",
      "  [114 115]]\n",
      "\n",
      " [[116 117]\n",
      "  [118 119]\n",
      "  [120 121]\n",
      "  [122 123]]]\n"
     ]
    }
   ],
   "source": [
    "#concatenating\n",
    "\n",
    "a = np.array(range(24))\n",
    "a = a.reshape((3,4,2))\n",
    "\n",
    "b = np.array(range(100,124))\n",
    "b = b.reshape((3,4,2))\n",
    "\n",
    "c = np.concatenate((a,b)) #to concatenate: must be of same shape\n",
    "print(c)"
   ]
  },
  {
   "cell_type": "code",
   "execution_count": 9,
   "id": "17f3c6db-0d36-4507-a0e5-371dadb2c927",
   "metadata": {},
   "outputs": [
    {
     "name": "stdout",
     "output_type": "stream",
     "text": [
      "[[1 2 3]\n",
      " [4 5 6]]\n",
      "[[1 4]\n",
      " [2 5]\n",
      " [3 6]]\n"
     ]
    }
   ],
   "source": [
    "#vector stacking: how would you want to concatenate\n",
    "\n",
    "a = np.array([1,2,3])\n",
    "b = np.array([4,5,6])\n",
    "\n",
    "r = np.vstack((a,b)) \n",
    "print(r)\n",
    "\n",
    "c = np.column_stack((a,b))\n",
    "print(c)"
   ]
  },
  {
   "cell_type": "code",
   "execution_count": 1,
   "id": "1231ab9e-8276-4a7e-a98d-11197379fa88",
   "metadata": {},
   "outputs": [
    {
     "name": "stdout",
     "output_type": "stream",
     "text": [
      "[[1 2]\n",
      " [3 4]\n",
      " [1 2]\n",
      " [3 4]]\n"
     ]
    }
   ],
   "source": [
    "import numpy as np \n",
    "x = np.array([[1, 2], [3, 4]]) \n",
    "print(np.tile(x, (2, 1)))"
   ]
  },
  {
   "cell_type": "code",
   "execution_count": 10,
   "id": "977076d1-a2a1-4032-b76c-fc9be53b8c08",
   "metadata": {},
   "outputs": [],
   "source": [
    "# random numbers and probability"
   ]
  },
  {
   "cell_type": "code",
   "execution_count": 1,
   "id": "aaaf0312-6c4d-4645-a59f-563fa40d2e85",
   "metadata": {},
   "outputs": [
    {
     "name": "stdout",
     "output_type": "stream",
     "text": [
      "0.14927471948379034\n"
     ]
    }
   ],
   "source": [
    "#from module random, and function random()\n",
    "\n",
    "import random  \n",
    "random_number = random.random()\n",
    "print(random_number)"
   ]
  },
  {
   "cell_type": "code",
   "execution_count": 3,
   "id": "a3309e90-5fe2-4193-a1ab-c9fbc5f2f7fe",
   "metadata": {},
   "outputs": [
    {
     "name": "stdout",
     "output_type": "stream",
     "text": [
      "0.14839497442675986\n"
     ]
    }
   ],
   "source": [
    "#from module random and class SystemRandom\n",
    "\n",
    "from random import SystemRandom\n",
    "crypto = SystemRandom()\n",
    "print(crypto.random())"
   ]
  },
  {
   "cell_type": "code",
   "execution_count": 4,
   "id": "9c0f9050-495a-488d-9ef5-e10ec5a1642f",
   "metadata": {},
   "outputs": [],
   "source": [
    "#generate list of random number"
   ]
  },
  {
   "cell_type": "code",
   "execution_count": 16,
   "id": "b4222c32-65c0-4f88-9b6d-a366c8f4a10a",
   "metadata": {},
   "outputs": [
    {
     "name": "stdout",
     "output_type": "stream",
     "text": [
      "[0.6650190887570185, 0.4371235324421663, 0.3440800194308896, 0.10835331551020388, 0.8141778220280314, 0.012726117220497102, 0.6792062350933069, 0.4602657250511114, 0.8268242497055486, 0.1506842898767583]\n"
     ]
    }
   ],
   "source": [
    "import random\n",
    "def random_list(n, secure = True):\n",
    "    random_floats = []\n",
    "    if secure:\n",
    "        crypto = random.SystemRandom()  \n",
    "        random_float = crypto.random #sets reference of method .random to random_float so no ()\n",
    "    else:\n",
    "        random_float = random.random\n",
    "        for x in range(n):\n",
    "            random_floats.append(random_float())  #here, using that above reference as function\n",
    "        return random_floats\n",
    "print(random_list(10, secure = False))"
   ]
  },
  {
   "cell_type": "code",
   "execution_count": 28,
   "id": "fe4b8684-1def-4609-90c8-0071cd63127e",
   "metadata": {},
   "outputs": [
    {
     "name": "stdout",
     "output_type": "stream",
     "text": [
      "47.85231138426391\n",
      "1.0\n"
     ]
    }
   ],
   "source": [
    "import numpy as np\n",
    "list = np.random.random(100)\n",
    "add = list.sum()\n",
    "print(add)\n",
    "normalised = list / add\n",
    "print(normalised.sum())"
   ]
  },
  {
   "cell_type": "code",
   "execution_count": 47,
   "id": "8c9696a1-2754-4f8e-98f7-6c6c8b85faec",
   "metadata": {},
   "outputs": [
    {
     "name": "stdout",
     "output_type": "stream",
     "text": [
      " TQqbqh8Ehv\n"
     ]
    }
   ],
   "source": [
    "# password generator\n",
    "from random import SystemRandom\n",
    "sr = SystemRandom()\n",
    "def pass_wo(len, valid_char = None):\n",
    "    if valid_char == None:\n",
    "        valid_char = \"ABCDEFGHIJKLMNOPQRSTUVWXYZ\"\n",
    "        valid_char += valid_char.lower() + \"0123456789\"\n",
    "        \n",
    "    password = \" \"\n",
    "    counter = 0\n",
    "\n",
    "    while counter < len:\n",
    "        rnum = sr.randint(0,128)\n",
    "        char = chr(rnum)\n",
    "        if char in valid_char:\n",
    "            password += char\n",
    "            counter += 1\n",
    "    return password\n",
    "\n",
    "print(pass_wo(10))\n",
    "\n",
    "    "
   ]
  },
  {
   "cell_type": "code",
   "execution_count": 49,
   "id": "1bd626e6-ec13-47f8-9acc-725f8cdd3e58",
   "metadata": {},
   "outputs": [
    {
     "name": "stdout",
     "output_type": "stream",
     "text": [
      "3\n"
     ]
    }
   ],
   "source": [
    "#dice kinda random numbers\n",
    "import random\n",
    "rnum = random.randint(1,6)\n",
    "print(rnum)"
   ]
  },
  {
   "cell_type": "code",
   "execution_count": 53,
   "id": "170ab75d-fe73-42b5-9805-f227d9053460",
   "metadata": {},
   "outputs": [
    {
     "data": {
      "text/plain": [
       "[1, 4, 3, 5, 6, 4, 5, 3, 3, 4]"
      ]
     },
     "execution_count": 53,
     "metadata": {},
     "output_type": "execute_result"
    }
   ],
   "source": [
    "import random\n",
    "[random.randint(1,6) for x in range(10)]\n",
    "    "
   ]
  },
  {
   "cell_type": "code",
   "execution_count": 74,
   "id": "b526e0b6-bf91-45a4-82db-fc04a810d582",
   "metadata": {},
   "outputs": [
    {
     "name": "stdout",
     "output_type": "stream",
     "text": [
      "['abc' 'mustang' 'mustang']\n",
      "[['pokhara' 'sailung']\n",
      " ['abc' 'rara']\n",
      " ['mustang' 'chitlang']]\n"
     ]
    }
   ],
   "source": [
    "from numpy.random import choice\n",
    "desti = [\"pokhara\", \"chitlang\", \"mustang\", \"abc\", \"rara\", \"sailung\"]\n",
    "d1 = choice(desti, size=3)\n",
    "print(d1)\n",
    "d2 = choice(desti, size = (3, 2), replace = False)\n",
    "print(d2)"
   ]
  },
  {
   "cell_type": "code",
   "execution_count": 80,
   "id": "77453b52-70fb-44a4-afce-80d0fb72789a",
   "metadata": {},
   "outputs": [
    {
     "name": "stdout",
     "output_type": "stream",
     "text": [
      "[56, 169, 179, 135, 141, 163]\n"
     ]
    }
   ],
   "source": [
    "import random\n",
    "print(random.sample(range(1,200), 6))"
   ]
  },
  {
   "cell_type": "code",
   "execution_count": null,
   "id": "4705ff7c-d178-4912-96bd-872077142360",
   "metadata": {},
   "outputs": [],
   "source": [
    "#weighted probabilities"
   ]
  },
  {
   "cell_type": "code",
   "execution_count": 7,
   "id": "76c3d399-57cf-4316-aeac-596f1bc11a36",
   "metadata": {},
   "outputs": [
    {
     "name": "stdout",
     "output_type": "stream",
     "text": [
      "j\n",
      "scientist\n",
      "intermediate\n",
      "The dice shows: <\n",
      "The two dice show: [2, 4]\n"
     ]
    }
   ],
   "source": [
    "from random import choice, sample \n",
    "print(choice(\"abcdefghij\")) \n",
    "professions = [\"scientist\", \"philoso pher\", \"engineer\", \"priest\"] \n",
    "print(choice(professions)) \n",
    "print(choice((\"beginner\", \"intermediate\", \"advanced\"))) # rolling one die \n",
    "x = choice(range(1, 7)) \n",
    "print(\"The dice shows: \" + str(x)) # rolling two dice: \n",
    "dice = sample(range(1, 7), 2) \n",
    "print(\"The two dice show: \" + str(dice))"
   ]
  },
  {
   "cell_type": "code",
   "execution_count": 9,
   "id": "89191dff-6298-4b12-b78d-8ca3c1f85972",
   "metadata": {},
   "outputs": [
    {
     "name": "stdout",
     "output_type": "stream",
     "text": [
      "B\n"
     ]
    }
   ],
   "source": [
    "import numpy as np\n",
    "from random import random\n",
    "\n",
    "def weighted_choice(objects, weights):\n",
    "    \"\"\"Returns a randomly selected element from 'objects',\n",
    "    with the likelihood weighted by 'weights'.\"\"\"\n",
    "    \n",
    "    weights = np.array(weights, dtype=np.float64)\n",
    "    weights = weights.cumsum()  # Compute cumulative weights\n",
    "    x = random()  # Random number between 0 and 1\n",
    "    \n",
    "    for i in range(len(weights)):\n",
    "        if x < weights[i]:\n",
    "            return objects[i]\n",
    "objects = ['A', 'B', 'C']\n",
    "weights = [0.2, 0.5, 0.3]\n",
    "result = weighted_choice(objects, weights)\n",
    "print(result)\n"
   ]
  },
  {
   "cell_type": "code",
   "execution_count": null,
   "id": "2befd373-2dbe-4fcc-b091-79fa77a9aae2",
   "metadata": {},
   "outputs": [],
   "source": []
  }
 ],
 "metadata": {
  "kernelspec": {
   "display_name": "Python 3 (ipykernel)",
   "language": "python",
   "name": "python3"
  },
  "language_info": {
   "codemirror_mode": {
    "name": "ipython",
    "version": 3
   },
   "file_extension": ".py",
   "mimetype": "text/x-python",
   "name": "python",
   "nbconvert_exporter": "python",
   "pygments_lexer": "ipython3",
   "version": "3.12.3"
  }
 },
 "nbformat": 4,
 "nbformat_minor": 5
}
